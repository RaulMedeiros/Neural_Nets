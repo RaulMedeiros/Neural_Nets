{
  "nbformat": 4,
  "nbformat_minor": 0,
  "metadata": {
    "colab": {
      "name": "Convolution_neural_nets.ipynb",
      "version": "0.3.2",
      "provenance": [],
      "include_colab_link": true
    },
    "kernelspec": {
      "name": "python3",
      "display_name": "Python 3"
    },
    "accelerator": "GPU"
  },
  "cells": [
    {
      "cell_type": "markdown",
      "metadata": {
        "id": "view-in-github",
        "colab_type": "text"
      },
      "source": [
        "[View in Colaboratory](https://colab.research.google.com/github/RaulMedeiros/Neural_Nets/blob/master/Convolution_neural_nets.ipynb)"
      ]
    },
    {
      "metadata": {
        "id": "eNHDyyF3k3Ut",
        "colab_type": "text"
      },
      "cell_type": "markdown",
      "source": [
        "# MLP vs. CNN for image classification."
      ]
    },
    {
      "metadata": {
        "id": "99usEYN8k3Uw",
        "colab_type": "code",
        "colab": {
          "base_uri": "https://localhost:8080/",
          "height": 36
        },
        "outputId": "8aadacfe-36bb-4640-b6d8-aec1e0624b25"
      },
      "cell_type": "code",
      "source": [
        "### Configuration\n",
        "from __future__ import print_function\n",
        "import keras\n",
        "from keras.datasets import mnist\n",
        "from keras.models import Sequential\n",
        "from keras.layers import Dense, Dropout, Flatten\n",
        "from keras.layers import Conv2D, MaxPooling2D\n",
        "from keras import backend as K\n",
        "\n",
        "batch_size = 128\n",
        "num_classes = 10\n",
        "epochs = 12"
      ],
      "execution_count": 1,
      "outputs": [
        {
          "output_type": "stream",
          "text": [
            "Using TensorFlow backend.\n"
          ],
          "name": "stderr"
        }
      ]
    },
    {
      "metadata": {
        "id": "45otqyZ9B8Fw",
        "colab_type": "text"
      },
      "cell_type": "markdown",
      "source": [
        "# DATA"
      ]
    },
    {
      "metadata": {
        "id": "sbATarKwk3U2",
        "colab_type": "text"
      },
      "cell_type": "markdown",
      "source": [
        "### Load Data"
      ]
    },
    {
      "metadata": {
        "id": "0BzvRG6Pk3U3",
        "colab_type": "code",
        "colab": {
          "base_uri": "https://localhost:8080/",
          "height": 130
        },
        "outputId": "9317411a-b1b5-4b1b-8980-e82f8440ed36"
      },
      "cell_type": "code",
      "source": [
        "# the data, split between train and test sets\n",
        "(x_train, y_train), (x_test, y_test) = mnist.load_data()\n",
        "\n",
        "print( \" x_train:\",x_train.shape, \"\\n\",\n",
        "        \"y_train:\", y_train.shape,\"\\n\",\n",
        "        \"x_test:\", x_test.shape,  \"\\n\",\n",
        "        \"x_test:\", y_test.shape )"
      ],
      "execution_count": 2,
      "outputs": [
        {
          "output_type": "stream",
          "text": [
            "Downloading data from https://s3.amazonaws.com/img-datasets/mnist.npz\n",
            "11493376/11490434 [==============================] - 7s 1us/step\n",
            " x_train: (60000, 28, 28) \n",
            " y_train: (60000,) \n",
            " x_test: (10000, 28, 28) \n",
            " x_test: (10000,)\n"
          ],
          "name": "stdout"
        }
      ]
    },
    {
      "metadata": {
        "id": "ZyudaZ8Fk3U7",
        "colab_type": "text"
      },
      "cell_type": "markdown",
      "source": [
        "###Plots a random samples from the training dataset."
      ]
    },
    {
      "metadata": {
        "id": "99o2aPDRtq2B",
        "colab_type": "code",
        "colab": {
          "base_uri": "https://localhost:8080/",
          "height": 466
        },
        "outputId": "8df6a01f-bb5d-41ea-cc92-3e3646cd1a2e"
      },
      "cell_type": "code",
      "source": [
        "import matplotlib.pyplot as plt\n",
        "import numpy as np\n",
        "\n",
        "def plot_images(imgs,columns=5,rows=5,figsize=(8, 8),subplot_size=(10,10)):\n",
        "  fig=plt.figure(figsize=figsize)\n",
        "  plt.grid(False)\n",
        "  plt.xticks([])\n",
        "  plt.yticks([])\n",
        "  for i in range(1, columns*rows+1):\n",
        "      rand_idx = np.random.randint(len(imgs))\n",
        "      img = imgs[rand_idx]\n",
        "      fig.add_subplot(rows, columns, i)\n",
        "      plt.grid(False)\n",
        "      plt.xticks([])\n",
        "      plt.yticks([])\n",
        "      plt.imshow(img)\n",
        "  plt.show()\n",
        "  \n",
        "plot_images(x_train)"
      ],
      "execution_count": 3,
      "outputs": [
        {
          "output_type": "display_data",
          "data": {
            "image/png": "[encoded data removed]",
            "text/plain": [
              "<matplotlib.figure.Figure at 0x7f781e435e48>"
            ]
          },
          "metadata": {
            "tags": []
          }
        }
      ]
    },
    {
      "metadata": {
        "id": "OMODOcMyk3VE",
        "colab_type": "text"
      },
      "cell_type": "markdown",
      "source": [
        "### Normalize images between 0 and 1."
      ]
    },
    {
      "metadata": {
        "id": "pD1bIrcSk3VF",
        "colab_type": "code",
        "colab": {
          "base_uri": "https://localhost:8080/",
          "height": 36
        },
        "outputId": "81459c86-3c0c-47da-d2bc-cd91308e9788"
      },
      "cell_type": "code",
      "source": [
        "x_train = x_train.astype('float32')\n",
        "x_test = x_test.astype('float32')\n",
        "x_train /= np.max(x_train)\n",
        "x_test /= np.max(x_test)\n",
        "\n",
        "print('min:',np.min(x_train),'max:',np.max(x_train))"
      ],
      "execution_count": 4,
      "outputs": [
        {
          "output_type": "stream",
          "text": [
            "min: 0.0 max: 1.0\n"
          ],
          "name": "stdout"
        }
      ]
    },
    {
      "metadata": {
        "id": "BSi3vJntk3VI",
        "colab_type": "text"
      },
      "cell_type": "markdown",
      "source": [
        "### Convert labes to One-Hot Format."
      ]
    },
    {
      "metadata": {
        "id": "ICP58z43k3VI",
        "colab_type": "code",
        "colab": {
          "base_uri": "https://localhost:8080/",
          "height": 55
        },
        "outputId": "2a4c124e-229d-4e5a-e063-f3782b8fd035"
      },
      "cell_type": "code",
      "source": [
        "print(\"num of classes:\",num_classes,\"| label:\",y_train[0])\n",
        "y_train = keras.utils.to_categorical(y_train, num_classes)\n",
        "y_test = keras.utils.to_categorical(y_test, num_classes)\n",
        "print(y_train[0])"
      ],
      "execution_count": 5,
      "outputs": [
        {
          "output_type": "stream",
          "text": [
            "num of classes: 10 | label: 5\n",
            "[0. 0. 0. 0. 0. 1. 0. 0. 0. 0.]\n"
          ],
          "name": "stdout"
        }
      ]
    },
    {
      "metadata": {
        "id": "U2Y3-gHH-esj",
        "colab_type": "text"
      },
      "cell_type": "markdown",
      "source": [
        "# MODEL"
      ]
    },
    {
      "metadata": {
        "id": "7qeT3T9R-cFd",
        "colab_type": "text"
      },
      "cell_type": "markdown",
      "source": [
        "## Multi-layer Perceptron (MLP)"
      ]
    },
    {
      "metadata": {
        "id": "K4Rusk4l_nL1",
        "colab_type": "code",
        "colab": {
          "base_uri": "https://localhost:8080/",
          "height": 36
        },
        "outputId": "6b3d4f63-1786-4fbc-9cc5-417969c593b9"
      },
      "cell_type": "code",
      "source": [
        "from functools import reduce\n",
        "\n",
        "img_rows = x_train.shape[-2]\n",
        "img_cols =x_train.shape[-1]\n",
        "num_features = img_rows * img_cols\n",
        "\n",
        "x_train = x_train.reshape(x_train.shape[0], num_features)\n",
        "x_test = x_test.reshape(x_test.shape[0], num_features)\n",
        "\n",
        "x_train.shape, x_test.shape"
      ],
      "execution_count": 6,
      "outputs": [
        {
          "output_type": "execute_result",
          "data": {
            "text/plain": [
              "((60000, 784), (10000, 784))"
            ]
          },
          "metadata": {
            "tags": []
          },
          "execution_count": 6
        }
      ]
    },
    {
      "metadata": {
        "id": "TiMY3uLY-RfB",
        "colab_type": "code",
        "colab": {
          "base_uri": "https://localhost:8080/",
          "height": 261
        },
        "outputId": "1db7d9f5-70d1-46f4-b3c4-279af0eb66ec"
      },
      "cell_type": "code",
      "source": [
        "# Build Model\n",
        "model = Sequential()\n",
        "model.add(Dense(64, input_dim=num_features, activation='relu'))\n",
        "model.add(Dense(64, activation='relu'))\n",
        "model.add(Dense(num_classes, activation='sigmoid'))\n",
        "model.summary()"
      ],
      "execution_count": 7,
      "outputs": [
        {
          "output_type": "stream",
          "text": [
            "_________________________________________________________________\n",
            "Layer (type)                 Output Shape              Param #   \n",
            "=================================================================\n",
            "dense_1 (Dense)              (None, 64)                50240     \n",
            "_________________________________________________________________\n",
            "dense_2 (Dense)              (None, 64)                4160      \n",
            "_________________________________________________________________\n",
            "dense_3 (Dense)              (None, 10)                650       \n",
            "=================================================================\n",
            "Total params: 55,050\n",
            "Trainable params: 55,050\n",
            "Non-trainable params: 0\n",
            "_________________________________________________________________\n"
          ],
          "name": "stdout"
        }
      ]
    },
    {
      "metadata": {
        "id": "KNAEgtzYk3VL",
        "colab_type": "text"
      },
      "cell_type": "markdown",
      "source": [
        "##  Convolution Neural Network (CNN)\n"
      ]
    },
    {
      "metadata": {
        "id": "saArBlySk3VC",
        "colab_type": "text"
      },
      "cell_type": "markdown",
      "source": [
        "### Format images to the order requested by Tensflow backgroud API."
      ]
    },
    {
      "metadata": {
        "id": "o9OfOgc-k3VC",
        "colab_type": "code",
        "colab": {
          "base_uri": "https://localhost:8080/",
          "height": 33
        },
        "outputId": "6719139e-15c5-4fca-fbc2-c4f2c72972e9"
      },
      "cell_type": "code",
      "source": [
        "img_rows = x_train.shape[-2]\n",
        "img_cols =x_train.shape[-1]\n",
        "\n",
        "x_train = x_train.reshape(x_train.shape[0], img_rows, img_cols, 1)\n",
        "x_test = x_test.reshape(x_test.shape[0], img_rows, img_cols, 1)\n",
        "input_shape = (img_rows, img_cols, 1)\n",
        "\n",
        "x_train.shape, x_test.shape"
      ],
      "execution_count": 6,
      "outputs": [
        {
          "output_type": "execute_result",
          "data": {
            "text/plain": [
              "(60000, 28, 28, 1)"
            ]
          },
          "metadata": {
            "tags": []
          },
          "execution_count": 6
        }
      ]
    },
    {
      "metadata": {
        "id": "_eIINNIYHAXE",
        "colab_type": "text"
      },
      "cell_type": "markdown",
      "source": [
        "### Build Model"
      ]
    },
    {
      "metadata": {
        "id": "KINsZ8esk3VM",
        "colab_type": "code",
        "colab": {
          "base_uri": "https://localhost:8080/",
          "height": 261
        },
        "outputId": "040a4f33-562e-414c-a253-b9a5b2de7b7e"
      },
      "cell_type": "code",
      "source": [
        "model = Sequential()\n",
        "model.add(Conv2D(filters=64, # Number of Filter / kernel / Neurons\n",
        "                 kernel_size=(3, 3), \n",
        "                 activation='relu', # Activation Function\n",
        "                 input_shape=input_shape))\n",
        "\n",
        "model.add(Conv2D(64, (3, 3), activation='relu'))\n",
        "# model.add(MaxPooling2D(pool_size=(2, 2)))\n",
        "# model.add(Dropout(0.5))\n",
        "\n",
        "model.add(Flatten())\n",
        "model.add(Dense(num_classes, activation='softmax'))\n",
        "model.summary()"
      ],
      "execution_count": 7,
      "outputs": [
        {
          "output_type": "stream",
          "text": [
            "_________________________________________________________________\n",
            "Layer (type)                 Output Shape              Param #   \n",
            "=================================================================\n",
            "conv2d_1 (Conv2D)            (None, 26, 26, 64)        640       \n",
            "_________________________________________________________________\n",
            "conv2d_2 (Conv2D)            (None, 24, 24, 64)        36928     \n",
            "_________________________________________________________________\n",
            "flatten_1 (Flatten)          (None, 36864)             0         \n",
            "_________________________________________________________________\n",
            "dense_1 (Dense)              (None, 10)                368650    \n",
            "=================================================================\n",
            "Total params: 406,218\n",
            "Trainable params: 406,218\n",
            "Non-trainable params: 0\n",
            "_________________________________________________________________\n"
          ],
          "name": "stdout"
        }
      ]
    },
    {
      "metadata": {
        "id": "15WPaCyJk3VR",
        "colab_type": "text"
      },
      "cell_type": "markdown",
      "source": [
        "# TRAIN and EVALUATE"
      ]
    },
    {
      "metadata": {
        "id": "JERUK8bPk3VP",
        "colab_type": "text"
      },
      "cell_type": "markdown",
      "source": [
        "### Set the training configurations: loss (objetctive func.), optimization strategy and the evaluation metric."
      ]
    },
    {
      "metadata": {
        "id": "kIpulcKIk3VQ",
        "colab_type": "code",
        "colab": {}
      },
      "cell_type": "code",
      "source": [
        "model.compile(loss=keras.losses.categorical_crossentropy,\n",
        "              optimizer=keras.optimizers.Adadelta(),\n",
        "              metrics=['accuracy'])"
      ],
      "execution_count": 0,
      "outputs": []
    },
    {
      "metadata": {
        "id": "Okw9Of1Rk3VS",
        "colab_type": "code",
        "colab": {
          "base_uri": "https://localhost:8080/",
          "height": 544
        },
        "outputId": "7bda52d6-3297-4f3e-ef43-7f81582d8db3"
      },
      "cell_type": "code",
      "source": [
        "%%time\n",
        "model.fit(x_train, y_train,\n",
        "          batch_size=batch_size,\n",
        "          epochs=epochs,\n",
        "          verbose=1,\n",
        "          validation_data=(x_test, y_test))"
      ],
      "execution_count": 9,
      "outputs": [
        {
          "output_type": "stream",
          "text": [
            "Train on 60000 samples, validate on 10000 samples\n",
            "Epoch 1/12\n",
            "60000/60000 [==============================] - 4s 68us/step - loss: 0.4043 - acc: 0.8789 - val_loss: 0.2259 - val_acc: 0.9326\n",
            "Epoch 2/12\n",
            "60000/60000 [==============================] - 3s 49us/step - loss: 0.1655 - acc: 0.9515 - val_loss: 0.1319 - val_acc: 0.9609\n",
            "Epoch 3/12\n",
            "60000/60000 [==============================] - 3s 50us/step - loss: 0.1255 - acc: 0.9634 - val_loss: 0.1177 - val_acc: 0.9650\n",
            "Epoch 4/12\n",
            "60000/60000 [==============================] - 3s 49us/step - loss: 0.1030 - acc: 0.9694 - val_loss: 0.1033 - val_acc: 0.9682\n",
            "Epoch 5/12\n",
            "60000/60000 [==============================] - 3s 49us/step - loss: 0.0872 - acc: 0.9742 - val_loss: 0.1029 - val_acc: 0.9697\n",
            "Epoch 6/12\n",
            "60000/60000 [==============================] - 3s 50us/step - loss: 0.0748 - acc: 0.9780 - val_loss: 0.0899 - val_acc: 0.9730\n",
            "Epoch 7/12\n",
            "60000/60000 [==============================] - 3s 49us/step - loss: 0.0669 - acc: 0.9799 - val_loss: 0.0907 - val_acc: 0.9716\n",
            "Epoch 8/12\n",
            "60000/60000 [==============================] - 3s 50us/step - loss: 0.0589 - acc: 0.9826 - val_loss: 0.0829 - val_acc: 0.9759\n",
            "Epoch 9/12\n",
            "60000/60000 [==============================] - 3s 50us/step - loss: 0.0518 - acc: 0.9848 - val_loss: 0.0814 - val_acc: 0.9761\n",
            "Epoch 10/12\n",
            "60000/60000 [==============================] - 3s 50us/step - loss: 0.0474 - acc: 0.9860 - val_loss: 0.0810 - val_acc: 0.9754\n",
            "Epoch 11/12\n",
            "60000/60000 [==============================] - 3s 50us/step - loss: 0.0420 - acc: 0.9877 - val_loss: 0.0842 - val_acc: 0.9746\n",
            "Epoch 12/12\n",
            "60000/60000 [==============================] - 3s 50us/step - loss: 0.0390 - acc: 0.9889 - val_loss: 0.0802 - val_acc: 0.9757\n",
            "CPU times: user 42.1 s, sys: 6.25 s, total: 48.3 s\n",
            "Wall time: 37.2 s\n"
          ],
          "name": "stdout"
        },
        {
          "output_type": "execute_result",
          "data": {
            "text/plain": [
              "<keras.callbacks.History at 0x7f7864439860>"
            ]
          },
          "metadata": {
            "tags": []
          },
          "execution_count": 9
        }
      ]
    },
    {
      "metadata": {
        "id": "SFmBVxhHk3VX",
        "colab_type": "text"
      },
      "cell_type": "markdown",
      "source": [
        "### Compute Evaluation Metric"
      ]
    },
    {
      "metadata": {
        "id": "H5tJEFqJk3VY",
        "colab_type": "code",
        "colab": {
          "base_uri": "https://localhost:8080/",
          "height": 299
        },
        "outputId": "7a9b7f59-d581-4b08-e51d-bf0c2544dc73"
      },
      "cell_type": "code",
      "source": [
        "y_pred = model.predict(x_test)\n",
        "\n",
        "# computes \n",
        "y_test_class = np.argmax(y_test,axis=1)\n",
        "y_pred_class = np.argmax(y_pred,axis=1)\n",
        "\n",
        "#Evaluation metrics\n",
        "from sklearn.metrics import classification_report\n",
        "print(classification_report(y_test_class,y_pred_class))"
      ],
      "execution_count": 12,
      "outputs": [
        {
          "output_type": "stream",
          "text": [
            "             precision    recall  f1-score   support\n",
            "\n",
            "          0       0.98      0.99      0.98       980\n",
            "          1       0.99      0.99      0.99      1135\n",
            "          2       0.98      0.98      0.98      1032\n",
            "          3       0.97      0.98      0.98      1010\n",
            "          4       0.98      0.97      0.97       982\n",
            "          5       0.97      0.98      0.97       892\n",
            "          6       0.99      0.97      0.98       958\n",
            "          7       0.98      0.97      0.97      1028\n",
            "          8       0.96      0.97      0.97       974\n",
            "          9       0.96      0.98      0.97      1009\n",
            "\n",
            "avg / total       0.98      0.98      0.98     10000\n",
            "\n"
          ],
          "name": "stdout"
        }
      ]
    },
    {
      "metadata": {
        "id": "UYlnFM5CDJoy",
        "colab_type": "text"
      },
      "cell_type": "markdown",
      "source": [
        "# Visualize"
      ]
    },
    {
      "metadata": {
        "id": "Q1-DzsmXDLkn",
        "colab_type": "code",
        "colab": {
          "base_uri": "https://localhost:8080/",
          "height": 1183
        },
        "outputId": "d95890d8-64ab-49e6-eb45-6343a3062bdf"
      },
      "cell_type": "code",
      "source": [
        "from sklearn.metrics import confusion_matrix\n",
        "import matplotlib.pyplot as plt\n",
        "import itertools\n",
        "\n",
        "def plot_confusion_matrix(cm, classes=[],\n",
        "                          normalize=False,\n",
        "                          title='Confusion matrix',\n",
        "                          cmap=plt.cm.Blues,\n",
        "                          fontsize=20):\n",
        "    \"\"\"\n",
        "    This function prints and plots the confusion matrix.\n",
        "    Normalization can be applied by setting `normalize=True`.\n",
        "    \n",
        "    http://scikit-learn.org/stable/auto_examples/model_selection/\n",
        "    plot_confusion_matrix.html (with minor changes)\n",
        "    \n",
        "    \"\"\"\n",
        "    if (not classes):\n",
        "        classes = list(map(str,np.arange(len(cnf_matrix))))     \n",
        "    \n",
        "    if normalize:\n",
        "        cm = cm.astype('float') / cm.sum(axis=1)[:, np.newaxis]\n",
        "        print(\"Normalized confusion matrix\")\n",
        "    else:\n",
        "        print('Confusion matrix, without normalization')\n",
        "\n",
        "    plt.imshow(cm, interpolation='nearest', cmap=cmap)\n",
        "    plt.title(title,fontsize=fontsize)\n",
        "    plt.colorbar()\n",
        "    \n",
        "    tick_marks = np.arange(len(classes))\n",
        "    plt.xticks(tick_marks, classes,fontsize=fontsize-5)\n",
        "    plt.yticks(tick_marks, classes,fontsize=fontsize-5)\n",
        "\n",
        "    fmt = '.2f' if normalize else 'd'\n",
        "    thresh = cm.max() / 2.\n",
        "    for i, j in itertools.product(range(cm.shape[0]), range(cm.shape[1])):\n",
        "        plt.text(j, i, format(cm[i, j], fmt),\n",
        "                 horizontalalignment=\"center\",\n",
        "                 color=\"white\" if cm[i, j] > thresh else \"black\")\n",
        "\n",
        "    plt.tight_layout()\n",
        "    plt.grid(False)\n",
        "    plt.ylabel('True label',fontsize=fontsize-2)\n",
        "    plt.xlabel('Predicted label',fontsize=fontsize-2)\n",
        "    return True\n",
        "\n",
        "  \n",
        "# Compute Confusion Matrix  \n",
        "cnf_matrix = confusion_matrix(y_test_class,y_pred_class)\n",
        "\n",
        "# Plot non-normalized confusion matrix\n",
        "plt.figure(figsize=(8,8))\n",
        "plot_confusion_matrix(cnf_matrix,\n",
        "                      title='Confusion matrix, without normalization')\n",
        "\n",
        "# Plot normalized confusion matrix\n",
        "plt.figure(figsize=(8,8))\n",
        "plot_confusion_matrix(cnf_matrix, normalize=True,\n",
        "                      title='Normalized confusion matrix')\n",
        "\n",
        "plt.show()"
      ],
      "execution_count": 15,
      "outputs": [
        {
          "output_type": "stream",
          "text": [
            "Confusion matrix, without normalization\n",
            "Normalized confusion matrix\n"
          ],
          "name": "stdout"
        },
        {
          "output_type": "display_data",
          "data": {
            "image/png": "[encoded data removed]",
            "text/plain": [
              "<matplotlib.figure.Figure at 0x7f77f8077940>"
            ]
          },
          "metadata": {
            "tags": []
          }
        },
        {
          "output_type": "display_data",
          "data": {
            "image/png": "[encoded data removed]",
            "text/plain": [
              "<matplotlib.figure.Figure at 0x7f77f78df6a0>"
            ]
          },
          "metadata": {
            "tags": []
          }
        }
      ]
    },
    {
      "metadata": {
        "id": "UCRfmGe2qaDQ",
        "colab_type": "code",
        "colab": {}
      },
      "cell_type": "code",
      "source": [
        ""
      ],
      "execution_count": 0,
      "outputs": []
    }
  ]
}