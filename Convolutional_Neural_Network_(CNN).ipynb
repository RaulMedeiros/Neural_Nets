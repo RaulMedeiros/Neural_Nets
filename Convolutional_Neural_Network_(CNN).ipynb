{
  "nbformat": 4,
  "nbformat_minor": 0,
  "metadata": {
    "colab": {
      "name": "Convolutional_Neural_Network_(CNN).ipynb",
      "version": "0.3.2",
      "provenance": [],
      "include_colab_link": true
    },
    "kernelspec": {
      "name": "python3",
      "display_name": "Python 3"
    },
    "accelerator": "GPU"
  },
  "cells": [
    {
      "cell_type": "markdown",
      "metadata": {
        "id": "view-in-github",
        "colab_type": "text"
      },
      "source": [
        "[View in Colaboratory](https://colab.research.google.com/github/RaulMedeiros/Neural_Nets/blob/master/Convolutional_Neural_Network_(CNN).ipynb)"
      ]
    },
    {
      "metadata": {
        "id": "eNHDyyF3k3Ut",
        "colab_type": "text"
      },
      "cell_type": "markdown",
      "source": [
        "# CNN for image classification"
      ]
    },
    {
      "metadata": {
        "id": "MczZzpzld-Si",
        "colab_type": "code",
        "colab": {}
      },
      "cell_type": "code",
      "source": [
        "src_drive_folder_id = '1PaoYzPEJd_CDRHyl7PpETAV8vjc82ZZ4'\n",
        "filename = ['dataset.zip']\n",
        "out_drive_folder_id = '12Bx_3dh4LbSTb4xfjDpHCSwSfCZW35NF'\n",
        "\n",
        "batch_size = 32\n",
        "epochs = 12"
      ],
      "execution_count": 0,
      "outputs": []
    },
    {
      "metadata": {
        "id": "RmlXEWitxxOc",
        "colab_type": "text"
      },
      "cell_type": "markdown",
      "source": [
        "## Authenticate PyDrive client"
      ]
    },
    {
      "metadata": {
        "id": "z0n5f30hmATI",
        "colab_type": "code",
        "colab": {}
      },
      "cell_type": "code",
      "source": [
        "# Install the PyDrive wrapper & import libraries.\n",
        "# This only needs to be done once per notebook.\n",
        "!pip install -U -q PyDrive\n",
        "from pydrive.auth import GoogleAuth\n",
        "from pydrive.drive import GoogleDrive\n",
        "from google.colab import auth\n",
        "from oauth2client.client import GoogleCredentials\n",
        "\n",
        "# Authenticate and create the PyDrive client.\n",
        "# This only needs to be done once per notebook.\n",
        "auth.authenticate_user()\n",
        "gauth = GoogleAuth()\n",
        "gauth.credentials = GoogleCredentials.get_application_default()\n",
        "drive = GoogleDrive(gauth)"
      ],
      "execution_count": 0,
      "outputs": []
    },
    {
      "metadata": {
        "id": "zurPgXkGx8sk",
        "colab_type": "text"
      },
      "cell_type": "markdown",
      "source": [
        "## Import File from drive"
      ]
    },
    {
      "metadata": {
        "id": "-ak_D42_DlmG",
        "colab_type": "code",
        "colab": {}
      },
      "cell_type": "code",
      "source": [
        "!rm -r dataset"
      ],
      "execution_count": 0,
      "outputs": []
    },
    {
      "metadata": {
        "id": "8lH0BcxsSM5V",
        "colab_type": "code",
        "colab": {
          "base_uri": "https://localhost:8080/",
          "height": 55
        },
        "outputId": "344c56ff-b85d-4216-e895-4711a180f0c6"
      },
      "cell_type": "code",
      "source": [
        "# !pip3 install -q pandas\n",
        "import pandas as pd\n",
        "import os\n",
        "\n",
        "def load_and_unzip_file(folder_id,filename):\n",
        "  \"\"\"Download and unzip dataset\"\"\"   \n",
        "\n",
        "  info = pd.DataFrame(drive.ListFile({'q': \"'\"+folder_id +\"' in parents and trashed=false\" }).GetList())  \n",
        "  \n",
        "  for i, drive_filename in enumerate(info['title'].values):\n",
        "    print(drive_filename)\n",
        "    if (drive_filename in filename):  \n",
        "      zip_id = info['id'].values[i]\n",
        "      zip_title = info['title'].values[i]\n",
        "  \n",
        "      downloaded = drive.CreateFile({'id': zip_id })\n",
        "      downloaded.GetContentFile(zip_title)  \n",
        "\n",
        "      os.system(\"unzip -q \"+zip_title)\n",
        "      os.system(\"rm \"+zip_title)\n",
        "      !ls\n",
        "  return True\n",
        "\n",
        "if (src_drive_folder_id):\n",
        "  #Load and Unconpress data\n",
        "  load_and_unzip_file(src_drive_folder_id,filename)\n",
        "else:\n",
        "  print(\"Warnning! Drive ID Not Provided\")\n",
        "  \n",
        "  "
      ],
      "execution_count": 6,
      "outputs": [
        {
          "output_type": "stream",
          "text": [
            "dataset.zip\n",
            "adc.json  out  sample_data\n"
          ],
          "name": "stdout"
        }
      ]
    },
    {
      "metadata": {
        "id": "45otqyZ9B8Fw",
        "colab_type": "text"
      },
      "cell_type": "markdown",
      "source": [
        "# DATA"
      ]
    },
    {
      "metadata": {
        "id": "sbATarKwk3U2",
        "colab_type": "text"
      },
      "cell_type": "markdown",
      "source": [
        "### Load Data"
      ]
    },
    {
      "metadata": {
        "id": "RowazuumlCoE",
        "colab_type": "code",
        "colab": {
          "base_uri": "https://localhost:8080/",
          "height": 36
        },
        "outputId": "e1498ce0-7014-460a-d8b2-3aeaa3d41bcd"
      },
      "cell_type": "code",
      "source": [
        "!mv out dataset\n",
        "!ls\n",
        "\n",
        "dataset_path = 'dataset'"
      ],
      "execution_count": 7,
      "outputs": [
        {
          "output_type": "stream",
          "text": [
            "adc.json  dataset  sample_data\r\n"
          ],
          "name": "stdout"
        }
      ]
    },
    {
      "metadata": {
        "id": "wYgmMd7gkXmU",
        "colab_type": "code",
        "colab": {}
      },
      "cell_type": "code",
      "source": [
        "import cv2\n",
        "import numpy as np\n",
        "import glob\n",
        "\n",
        "def load_data(path,img_shape=None):\n",
        "  X = []; y = []\n",
        "  for img_path in glob.glob(path+'/*/'+'*'):\n",
        "    # Load an color image in grayscale\n",
        "    data = cv2.imread(img_path,0)\n",
        "    label = int(img_path.split('/')[-2])\n",
        "    \n",
        "    #Resize (assert image shape)\n",
        "    if(img_shape and data.shape != img_shape):\n",
        "      data = cv2.resize(data, tuple(np.flip(img_shape,0))) \n",
        "\n",
        "    #Store\n",
        "    X.append(data) \n",
        "    y.append(label) \n",
        "  return np.array(X), np.array(y)\n",
        "  \n",
        "dataset_path ='dataset'\n",
        "(X, y) = load_data(dataset_path)\n",
        "num_classes = len(np.unique(y))\n"
      ],
      "execution_count": 0,
      "outputs": []
    },
    {
      "metadata": {
        "id": "0BzvRG6Pk3U3",
        "colab_type": "code",
        "colab": {
          "base_uri": "https://localhost:8080/",
          "height": 92
        },
        "outputId": "10e387f9-6900-4be1-b70f-06d4c3a9aabe"
      },
      "cell_type": "code",
      "source": [
        "# the data, split between train and test sets\n",
        "from sklearn.model_selection import train_test_split\n",
        "\n",
        "x_train, x_test, y_train, y_test = train_test_split( X, y, \n",
        "                                                     test_size=0.2,\n",
        "                                                     random_state=42)\n",
        "\n",
        "print( \" x_train:\",x_train.shape, \"\\n\",\n",
        "        \"y_train:\", y_train.shape,\"\\n\",\n",
        "        \"x_test:\", x_test.shape,  \"\\n\",\n",
        "        \"y_test:\", y_test.shape )"
      ],
      "execution_count": 9,
      "outputs": [
        {
          "output_type": "stream",
          "text": [
            " x_train: (5440, 28, 28) \n",
            " y_train: (5440,) \n",
            " x_test: (1360, 28, 28) \n",
            " y_test: (1360,)\n"
          ],
          "name": "stdout"
        }
      ]
    },
    {
      "metadata": {
        "id": "ZyudaZ8Fk3U7",
        "colab_type": "text"
      },
      "cell_type": "markdown",
      "source": [
        "###Plots a random samples from the training dataset."
      ]
    },
    {
      "metadata": {
        "id": "99o2aPDRtq2B",
        "colab_type": "code",
        "colab": {
          "base_uri": "https://localhost:8080/",
          "height": 466
        },
        "outputId": "d4cc94fe-668d-484c-f7e6-defb1c1e9612"
      },
      "cell_type": "code",
      "source": [
        "import matplotlib.pyplot as plt\n",
        "import numpy as np\n",
        "\n",
        "def plot_images(imgs,columns=5,rows=5,figsize=(8, 8),subplot_size=(10,10)):\n",
        "  fig=plt.figure(figsize=figsize)\n",
        "  plt.grid(False)\n",
        "  plt.xticks([])\n",
        "  plt.yticks([])\n",
        "  for i in range(1, columns*rows+1):\n",
        "      rand_idx = np.random.randint(len(imgs))\n",
        "      img = imgs[rand_idx]\n",
        "      fig.add_subplot(rows, columns, i)\n",
        "      plt.grid(False)\n",
        "      plt.xticks([])\n",
        "      plt.yticks([])\n",
        "      plt.imshow(img)\n",
        "  plt.show()\n",
        "  \n",
        "plot_images(x_train)"
      ],
      "execution_count": 10,
      "outputs": [
        {
          "output_type": "display_data",
          "data": {
            "image/png": "[encoded data removed]",
            "text/plain": [
              "<matplotlib.figure.Figure at 0x7ff534647128>"
            ]
          },
          "metadata": {
            "tags": []
          }
        }
      ]
    },
    {
      "metadata": {
        "id": "OMODOcMyk3VE",
        "colab_type": "text"
      },
      "cell_type": "markdown",
      "source": [
        "### Normalize images between 0 and 1."
      ]
    },
    {
      "metadata": {
        "id": "pD1bIrcSk3VF",
        "colab_type": "code",
        "colab": {
          "base_uri": "https://localhost:8080/",
          "height": 36
        },
        "outputId": "353e33db-af29-499a-deda-201ececf7abe"
      },
      "cell_type": "code",
      "source": [
        "x_train = x_train.astype('float32')\n",
        "x_test = x_test.astype('float32')\n",
        "x_train /= np.max(x_train)\n",
        "x_test /= np.max(x_test)\n",
        "\n",
        "print('min:',np.min(x_train),'max:',np.max(x_train))"
      ],
      "execution_count": 11,
      "outputs": [
        {
          "output_type": "stream",
          "text": [
            "min: 0.0 max: 1.0\n"
          ],
          "name": "stdout"
        }
      ]
    },
    {
      "metadata": {
        "id": "BSi3vJntk3VI",
        "colab_type": "text"
      },
      "cell_type": "markdown",
      "source": [
        "### Convert labes to One-Hot Format."
      ]
    },
    {
      "metadata": {
        "id": "ICP58z43k3VI",
        "colab_type": "code",
        "colab": {
          "base_uri": "https://localhost:8080/",
          "height": 55
        },
        "outputId": "099c6a0a-6a15-4c35-e83e-1f1d825d9879"
      },
      "cell_type": "code",
      "source": [
        "import keras\n",
        "\n",
        "print(\"num of classes:\",num_classes,\"| label:\",y_train[0])\n",
        "y_train = keras.utils.to_categorical(y_train, num_classes)\n",
        "y_test = keras.utils.to_categorical(y_test, num_classes)\n",
        "print(y_train[0])"
      ],
      "execution_count": 12,
      "outputs": [
        {
          "output_type": "stream",
          "text": [
            "num of classes: 2 | label: 1\n",
            "[0. 1.]\n"
          ],
          "name": "stdout"
        }
      ]
    },
    {
      "metadata": {
        "id": "KNAEgtzYk3VL",
        "colab_type": "text"
      },
      "cell_type": "markdown",
      "source": [
        "#  Convolution Neural Network (CNN)\n"
      ]
    },
    {
      "metadata": {
        "id": "saArBlySk3VC",
        "colab_type": "text"
      },
      "cell_type": "markdown",
      "source": [
        "### Format images to the order requested by Tensflow backgroud API."
      ]
    },
    {
      "metadata": {
        "id": "o9OfOgc-k3VC",
        "colab_type": "code",
        "colab": {
          "base_uri": "https://localhost:8080/",
          "height": 36
        },
        "outputId": "5dfee987-46d8-4edc-9447-79b148dc5b87"
      },
      "cell_type": "code",
      "source": [
        "img_rows = x_train.shape[-2]\n",
        "img_cols =x_train.shape[-1]\n",
        "\n",
        "x_train = x_train.reshape(x_train.shape[0], img_rows, img_cols, 1)\n",
        "x_test = x_test.reshape(x_test.shape[0], img_rows, img_cols, 1)\n",
        "input_shape = (img_rows, img_cols, 1)\n",
        "\n",
        "x_train.shape, x_test.shape"
      ],
      "execution_count": 13,
      "outputs": [
        {
          "output_type": "execute_result",
          "data": {
            "text/plain": [
              "((5440, 28, 28, 1), (1360, 28, 28, 1))"
            ]
          },
          "metadata": {
            "tags": []
          },
          "execution_count": 13
        }
      ]
    },
    {
      "metadata": {
        "id": "_eIINNIYHAXE",
        "colab_type": "text"
      },
      "cell_type": "markdown",
      "source": [
        "### Build Model"
      ]
    },
    {
      "metadata": {
        "id": "KINsZ8esk3VM",
        "colab_type": "code",
        "colab": {
          "base_uri": "https://localhost:8080/",
          "height": 450
        },
        "outputId": "aaf4984a-2831-4d36-d9bb-3c605842e7c9"
      },
      "cell_type": "code",
      "source": [
        "from keras.models import Sequential\n",
        "from keras.layers import Dense, Dropout, Flatten\n",
        "from keras.layers import Conv2D, MaxPooling2D\n",
        "\n",
        "model = Sequential()\n",
        "\n",
        "model.add(Conv2D(filters=64, # Number of Filter / kernel / Neurons\n",
        "                 kernel_size=(3, 3), \n",
        "                 activation='relu', # Activation Function\n",
        "                 input_shape=input_shape))\n",
        "\n",
        "model.add(Conv2D(64, (3, 3), activation='relu'))\n",
        "model.add(Dropout(0.5))\n",
        "\n",
        "model.add(Conv2D(64, (3, 3), activation='relu'))\n",
        "model.add(Dropout(0.5))\n",
        "\n",
        "\n",
        "model.add(Flatten())\n",
        "model.add(Dropout(0.5))\n",
        "model.add(Dense(num_classes, activation='softmax'))\n",
        "model.summary()"
      ],
      "execution_count": 14,
      "outputs": [
        {
          "output_type": "stream",
          "text": [
            "_________________________________________________________________\n",
            "Layer (type)                 Output Shape              Param #   \n",
            "=================================================================\n",
            "conv2d_1 (Conv2D)            (None, 26, 26, 64)        640       \n",
            "_________________________________________________________________\n",
            "conv2d_2 (Conv2D)            (None, 24, 24, 64)        36928     \n",
            "_________________________________________________________________\n",
            "dropout_1 (Dropout)          (None, 24, 24, 64)        0         \n",
            "_________________________________________________________________\n",
            "conv2d_3 (Conv2D)            (None, 22, 22, 64)        36928     \n",
            "_________________________________________________________________\n",
            "dropout_2 (Dropout)          (None, 22, 22, 64)        0         \n",
            "_________________________________________________________________\n",
            "flatten_1 (Flatten)          (None, 30976)             0         \n",
            "_________________________________________________________________\n",
            "dropout_3 (Dropout)          (None, 30976)             0         \n",
            "_________________________________________________________________\n",
            "dense_1 (Dense)              (None, 2)                 61954     \n",
            "=================================================================\n",
            "Total params: 136,450\n",
            "Trainable params: 136,450\n",
            "Non-trainable params: 0\n",
            "_________________________________________________________________\n"
          ],
          "name": "stdout"
        }
      ]
    },
    {
      "metadata": {
        "id": "15WPaCyJk3VR",
        "colab_type": "text"
      },
      "cell_type": "markdown",
      "source": [
        "# TRAIN and EVALUATE"
      ]
    },
    {
      "metadata": {
        "id": "JERUK8bPk3VP",
        "colab_type": "text"
      },
      "cell_type": "markdown",
      "source": [
        "### Set the training configurations: loss (objetctive func.), optimization strategy and the evaluation metric."
      ]
    },
    {
      "metadata": {
        "id": "kIpulcKIk3VQ",
        "colab_type": "code",
        "colab": {}
      },
      "cell_type": "code",
      "source": [
        "model.compile(loss=keras.losses.categorical_crossentropy,\n",
        "              optimizer='adam',\n",
        "              metrics=['accuracy'])"
      ],
      "execution_count": 0,
      "outputs": []
    },
    {
      "metadata": {
        "id": "Okw9Of1Rk3VS",
        "colab_type": "code",
        "colab": {
          "base_uri": "https://localhost:8080/",
          "height": 525
        },
        "outputId": "f2904ad1-f5fb-4c95-d269-d57744a84901"
      },
      "cell_type": "code",
      "source": [
        "%%time\n",
        "history = model.fit(x_train, y_train,\n",
        "          batch_size=batch_size,\n",
        "          epochs=epochs,\n",
        "          verbose=1,\n",
        "          validation_data=(x_test, y_test))"
      ],
      "execution_count": 23,
      "outputs": [
        {
          "output_type": "stream",
          "text": [
            "Train on 5440 samples, validate on 1360 samples\n",
            "Epoch 1/12\n",
            "5440/5440 [==============================] - 3s 642us/step - loss: 0.5007 - acc: 0.7939 - val_loss: 0.5541 - val_acc: 0.7765\n",
            "Epoch 2/12\n",
            "5440/5440 [==============================] - 3s 628us/step - loss: 0.4984 - acc: 0.7943 - val_loss: 0.5608 - val_acc: 0.7757\n",
            "Epoch 3/12\n",
            "5440/5440 [==============================] - 3s 630us/step - loss: 0.4991 - acc: 0.7943 - val_loss: 0.5582 - val_acc: 0.7779\n",
            "Epoch 4/12\n",
            "5440/5440 [==============================] - 3s 630us/step - loss: 0.4956 - acc: 0.7949 - val_loss: 0.5603 - val_acc: 0.7765\n",
            "Epoch 5/12\n",
            "5440/5440 [==============================] - 3s 630us/step - loss: 0.4985 - acc: 0.7965 - val_loss: 0.5871 - val_acc: 0.7721\n",
            "Epoch 6/12\n",
            "5440/5440 [==============================] - 3s 628us/step - loss: 0.4975 - acc: 0.7928 - val_loss: 0.5586 - val_acc: 0.7757\n",
            "Epoch 7/12\n",
            "5440/5440 [==============================] - 3s 630us/step - loss: 0.4938 - acc: 0.7945 - val_loss: 0.5604 - val_acc: 0.7735\n",
            "Epoch 8/12\n",
            "5440/5440 [==============================] - 3s 631us/step - loss: 0.4916 - acc: 0.7956 - val_loss: 0.5789 - val_acc: 0.7750\n",
            "Epoch 9/12\n",
            "5440/5440 [==============================] - 3s 628us/step - loss: 0.4919 - acc: 0.7939 - val_loss: 0.5759 - val_acc: 0.7743\n",
            "Epoch 10/12\n",
            "5440/5440 [==============================] - 3s 627us/step - loss: 0.4920 - acc: 0.7960 - val_loss: 0.5978 - val_acc: 0.7676\n",
            "Epoch 11/12\n",
            "5440/5440 [==============================] - 3s 630us/step - loss: 0.4925 - acc: 0.7963 - val_loss: 0.5692 - val_acc: 0.7728\n",
            "Epoch 12/12\n",
            "5440/5440 [==============================] - 3s 625us/step - loss: 0.4907 - acc: 0.7969 - val_loss: 0.5806 - val_acc: 0.7713\n",
            "CPU times: user 33.8 s, sys: 6.95 s, total: 40.7 s\n",
            "Wall time: 41.1 s\n"
          ],
          "name": "stdout"
        }
      ]
    },
    {
      "metadata": {
        "id": "Xvl-qjoq7hPT",
        "colab_type": "code",
        "colab": {
          "base_uri": "https://localhost:8080/",
          "height": 410
        },
        "outputId": "df4c932b-08ce-42ac-b56b-8dcfffe1c0bb"
      },
      "cell_type": "code",
      "source": [
        "import seaborn as sns\n",
        "\n",
        "def plot_history(history,show=True,fontsize=20):\n",
        "     \n",
        "    colors = [\"windows blue\",\"red\"]\n",
        "    clrs = sns.xkcd_palette(colors)\n",
        "\n",
        "    # summarize history for accuracy\n",
        "    plt.plot(history['acc'],c=clrs[0],label='Train')\n",
        "    plt.plot(history['val_acc'],c=clrs[1],label='Test')\n",
        "    plt.grid(True)    \n",
        "    plt.title('Accuracy Evolution',fontsize=fontsize,)\n",
        "    plt.ylabel('Accuracy',fontsize=fontsize,)\n",
        "    plt.xlabel('Epoch',fontsize=fontsize,)\n",
        "    leg = plt.legend(['train', 'test'],\n",
        "                     loc='upper left',\n",
        "                     fontsize=fontsize,\n",
        "                     frameon=True)\n",
        "    leg.get_frame().set_edgecolor('black')\n",
        "\n",
        "    if (show): \n",
        "      plt.show()\n",
        "    else: \n",
        "      plt.clf()\n",
        "    return True\n",
        "  \n",
        "plot_history(history.history)"
      ],
      "execution_count": 38,
      "outputs": [
        {
          "output_type": "display_data",
          "data": {
            "image/png": "[encoded data removed]",
            "text/plain": [
              "<matplotlib.figure.Figure at 0x7ff57b66c160>"
            ]
          },
          "metadata": {
            "tags": []
          }
        },
        {
          "output_type": "execute_result",
          "data": {
            "text/plain": [
              "True"
            ]
          },
          "metadata": {
            "tags": []
          },
          "execution_count": 38
        }
      ]
    },
    {
      "metadata": {
        "id": "SFmBVxhHk3VX",
        "colab_type": "text"
      },
      "cell_type": "markdown",
      "source": [
        "### Compute Evaluation Metric"
      ]
    },
    {
      "metadata": {
        "id": "H5tJEFqJk3VY",
        "colab_type": "code",
        "colab": {
          "base_uri": "https://localhost:8080/",
          "height": 149
        },
        "outputId": "da581f79-3af7-41f2-d320-a2a459b25989"
      },
      "cell_type": "code",
      "source": [
        "y_pred = model.predict(x_test)\n",
        "\n",
        "# computes \n",
        "y_test_class = np.argmax(y_test,axis=1)\n",
        "y_pred_class = np.argmax(y_pred,axis=1)\n",
        "\n",
        "#Evaluation metrics\n",
        "from sklearn.metrics import classification_report,confusion_matrix\n",
        "print(classification_report(y_test_class,y_pred_class))"
      ],
      "execution_count": 17,
      "outputs": [
        {
          "output_type": "stream",
          "text": [
            "             precision    recall  f1-score   support\n",
            "\n",
            "          0       0.78      1.00      0.88      1064\n",
            "          1       0.00      0.00      0.00       296\n",
            "\n",
            "avg / total       0.61      0.78      0.69      1360\n",
            "\n"
          ],
          "name": "stdout"
        }
      ]
    },
    {
      "metadata": {
        "id": "UYlnFM5CDJoy",
        "colab_type": "text"
      },
      "cell_type": "markdown",
      "source": [
        "# Visualize"
      ]
    },
    {
      "metadata": {
        "id": "Q1-DzsmXDLkn",
        "colab_type": "code",
        "colab": {
          "base_uri": "https://localhost:8080/",
          "height": 714
        },
        "outputId": "27189841-0b5a-4615-f65a-a9d7816ae7a0"
      },
      "cell_type": "code",
      "source": [
        "import matplotlib.pyplot as plt\n",
        "import itertools\n",
        "\n",
        "'''http://scikit-learn.org/stable/auto_examples/model_selection/\n",
        "   plot_confusion_matrix.html with minor changes'''\n",
        "\n",
        "def plot_confusion_matrix(cm, classes=[],\n",
        "                          normalize=False,\n",
        "                          title='Confusion matrix',\n",
        "                          cmap=plt.cm.Blues,\n",
        "                          fontsize=20):\n",
        "    \"\"\"\n",
        "    This function prints and plots the confusion matrix.\n",
        "    Normalization can be applied by setting `normalize=True`.\n",
        "    \"\"\"\n",
        "    if (not classes):\n",
        "        classes = list(map(str,np.arange(len(cnf_matrix))))     \n",
        "    \n",
        "    if normalize:\n",
        "        cm = cm.astype('float') / cm.sum(axis=1)[:, np.newaxis]\n",
        "#         print(\"Normalized confusion matrix\")\n",
        "#     else:\n",
        "#         print('Confusion matrix, without normalization')\n",
        "\n",
        "    plt.imshow(cm, interpolation='nearest', cmap=cmap)\n",
        "    plt.title(title,fontsize=fontsize)\n",
        "    plt.colorbar()\n",
        "    \n",
        "    tick_marks = np.arange(len(classes))\n",
        "    plt.xticks(tick_marks, classes,fontsize=fontsize-5)\n",
        "    plt.yticks(tick_marks, classes,fontsize=fontsize-5)\n",
        "\n",
        "    fmt = '.2f' if normalize else 'd'\n",
        "    thresh = cm.max() / 2.\n",
        "    for i, j in itertools.product(range(cm.shape[0]), range(cm.shape[1])):\n",
        "        plt.text(j, i, format(cm[i, j], fmt),\n",
        "                 horizontalalignment=\"center\",\n",
        "                 color=\"white\" if cm[i, j] > thresh else \"black\")\n",
        "\n",
        "    plt.tight_layout()\n",
        "    plt.grid(False)\n",
        "    plt.ylabel('True label',fontsize=fontsize-2)\n",
        "    plt.xlabel('Predicted label',fontsize=fontsize-2)\n",
        "    return True\n",
        "\n",
        "# Compute Confusion Matrix\n",
        "cnf_matrix = confusion_matrix(y_test_class,y_pred_class)\n",
        "\n",
        "# Plot non-normalized confusion matrix\n",
        "plt.figure(figsize=(5,5))\n",
        "plot_confusion_matrix(cnf_matrix,\n",
        "                      title='Confusion Matrix',\n",
        "                      fontsize=20)\n",
        "\n",
        "# Plot normalized confusion matrix\n",
        "plt.figure(figsize=(5,5))\n",
        "plot_confusion_matrix(cnf_matrix, normalize=True,\n",
        "                      title='Normalized Confusion Matrix',\n",
        "                      fontsize=20)\n",
        "\n",
        "plt.show()"
      ],
      "execution_count": 18,
      "outputs": [
        {
          "output_type": "display_data",
          "data": {
            "image/png": "[encoded data removed]",
            "text/plain": [
              "<matplotlib.figure.Figure at 0x7ff52aeae8d0>"
            ]
          },
          "metadata": {
            "tags": []
          }
        },
        {
          "output_type": "display_data",
          "data": {
            "image/png": "[encoded data removed]",
            "text/plain": [
              "<matplotlib.figure.Figure at 0x7ff52aeb2198>"
            ]
          },
          "metadata": {
            "tags": []
          }
        }
      ]
    }
  ]
}